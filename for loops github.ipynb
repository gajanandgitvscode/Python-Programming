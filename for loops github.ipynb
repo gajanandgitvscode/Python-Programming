{
 "cells": [
  {
   "cell_type": "markdown",
   "metadata": {},
   "source": [
    "Given a list of positive integers, find the factorial of all the numbers."
   ]
  },
  {
   "cell_type": "code",
   "execution_count": null,
   "metadata": {},
   "outputs": [],
   "source": [
    "lst=[5,6,9,8,7,6,4,6,3,5,4]\n",
    "for i in lst:\n",
    "    num=1\n",
    "    for j in range(1,i+1):\n",
    "        num=num*j\n",
    "    print(\"factorial of\",i,\"is\",num)"
   ]
  },
  {
   "cell_type": "markdown",
   "metadata": {},
   "source": [
    "Given two numbers, find its Least Common Multiple (LCM)."
   ]
  },
  {
   "cell_type": "code",
   "execution_count": 5,
   "metadata": {},
   "outputs": [
    {
     "name": "stdout",
     "output_type": "stream",
     "text": [
      "24\n"
     ]
    }
   ],
   "source": [
    "a=int(input(\"a\"))\n",
    "b=int(input(\"b\"))\n",
    "num=1\n",
    "if a==b or b%a==0:\n",
    "    print(\"lcm is\",b)\n",
    "elif a%b==0:\n",
    "    print(\"lcm is\",a)\n",
    "elif a>b:\n",
    "    for i in range(2,a+1):\n",
    "        if a%i==0 and b%i==0:\n",
    "            num=num*i\n",
    "            a=a/i\n",
    "            b=b/i\n",
    "        elif a%i==0:\n",
    "            num=num*i\n",
    "            a=a/i\n",
    "        elif b%i==0:\n",
    "            num=num*i\n",
    "            b=b/i\n",
    "        else:\n",
    "            num=num*1\n",
    "    print(num)\n",
    "elif b>a:\n",
    "    for i in range(2,b+1):\n",
    "        if a%i==0 and b%i==0:\n",
    "            num=num*i\n",
    "            a=a/i\n",
    "            b=b/i\n",
    "        elif a%i==0:\n",
    "            num=num*i\n",
    "            a=a/i\n",
    "        elif b%i==0:\n",
    "            num=num*i\n",
    "            b=b/i\n",
    "        else:\n",
    "            num=num*1\n",
    "    print(num)\n",
    "else:\n",
    "    num=num*1\n",
    "    "
   ]
  },
  {
   "cell_type": "markdown",
   "metadata": {},
   "source": [
    "Given two numbers, find its Greatest Common Divisor (Divisor)."
   ]
  },
  {
   "cell_type": "code",
   "execution_count": 15,
   "metadata": {},
   "outputs": [
    {
     "name": "stdout",
     "output_type": "stream",
     "text": [
      "gcd is 9\n"
     ]
    }
   ],
   "source": [
    "# a=int(input(\"a\"))\n",
    "# b=int(input(\"b\"))\n",
    "# num=1\n",
    "# if a==b:\n",
    "#     print(\"gcd is\",a)\n",
    "# elif a>b:\n",
    "#     for i in range(2,b):\n",
    "#         if a%i==0 and b%i==0:\n",
    "#             num=num*i\n",
    "#             a=a/i\n",
    "#             b=b/i\n",
    "#     print(\"gcd is\",num)\n",
    "# elif b>a:\n",
    "#     for i in range(2,a):\n",
    "#         if a%i==0 and b%i==0:\n",
    "#             num=num*i\n",
    "#             a=a/i\n",
    "#             b=b/i\n",
    "#     print(\"gcd is\",num)\n",
    "# else:\n",
    "#     print(\"gcd is\",num)"
   ]
  },
  {
   "cell_type": "markdown",
   "metadata": {},
   "source": [
    "Given a positive integer, find out all prime numbers from 1 up to this number."
   ]
  },
  {
   "cell_type": "code",
   "execution_count": 63,
   "metadata": {},
   "outputs": [
    {
     "name": "stdout",
     "output_type": "stream",
     "text": [
      "2\n",
      "3\n",
      "5\n",
      "7\n",
      "11\n",
      "13\n",
      "17\n",
      "19\n",
      "23\n",
      "29\n",
      "31\n",
      "37\n",
      "41\n",
      "43\n"
     ]
    }
   ],
   "source": [
    "i=int(input(\"i\"))\n",
    "for a in range(2,i+1):\n",
    "    count=0\n",
    "    for i in range(2,a):\n",
    "        if a%i==0:\n",
    "            count=count+1\n",
    "        else:\n",
    "            count=count+0\n",
    "    if count==0:\n",
    "        print(a)\n",
    "    "
   ]
  },
  {
   "cell_type": "markdown",
   "metadata": {},
   "source": [
    "Given a positive integers, find out the sum of all prime numbers from 1 up to this number."
   ]
  },
  {
   "cell_type": "code",
   "execution_count": 65,
   "metadata": {},
   "outputs": [
    {
     "name": "stdout",
     "output_type": "stream",
     "text": [
      "28\n"
     ]
    }
   ],
   "source": [
    "i=int(input(\"i\"))\n",
    "sum=0\n",
    "for a in range(2,i+1):\n",
    "    count=0\n",
    "    for i in range(2,a):\n",
    "        if a%i==0:\n",
    "            count=count+1\n",
    "        else:\n",
    "            count=count+0\n",
    "    if count==0:\n",
    "        sum=sum+a\n",
    "print(sum)\n",
    "    "
   ]
  },
  {
   "cell_type": "markdown",
   "metadata": {},
   "source": [
    "Given a list of numbers, find out how many times each number occurs in the list."
   ]
  },
  {
   "cell_type": "code",
   "execution_count": 67,
   "metadata": {},
   "outputs": [
    {
     "name": "stdout",
     "output_type": "stream",
     "text": [
      "6 occurs in the list 6 times\n",
      "5 occurs in the list 4 times\n",
      "9 occurs in the list 3 times\n",
      "5 occurs in the list 4 times\n",
      "6 occurs in the list 6 times\n",
      "4 occurs in the list 4 times\n",
      "7 occurs in the list 1 times\n",
      "8 occurs in the list 4 times\n",
      "5 occurs in the list 4 times\n",
      "6 occurs in the list 6 times\n",
      "3 occurs in the list 1 times\n",
      "2 occurs in the list 2 times\n",
      "4 occurs in the list 4 times\n",
      "8 occurs in the list 4 times\n",
      "9 occurs in the list 3 times\n",
      "6 occurs in the list 6 times\n",
      "5 occurs in the list 4 times\n",
      "4 occurs in the list 4 times\n",
      "8 occurs in the list 4 times\n",
      "123 occurs in the list 1 times\n",
      "6 occurs in the list 6 times\n",
      "6 occurs in the list 6 times\n",
      "9 occurs in the list 3 times\n",
      "8 occurs in the list 4 times\n",
      "2 occurs in the list 2 times\n",
      "4 occurs in the list 4 times\n"
     ]
    }
   ],
   "source": [
    "lst=[6,5,9,5,6,4,7,8,5,6,3,2,4,8,9,6,5,4,8,123,6,6,9,8,2,4]\n",
    "for i in lst:\n",
    "    num=0\n",
    "    for j in lst:\n",
    "        if i==j:\n",
    "            num=num+1\n",
    "        else:\n",
    "            num=num+0\n",
    "    print(i,\"occurs in the list\",num,\"times\")"
   ]
  },
  {
   "cell_type": "markdown",
   "metadata": {},
   "source": [
    "Given a list of integers, find all pairs of integers in the list whose sum is zero."
   ]
  },
  {
   "cell_type": "code",
   "execution_count": 68,
   "metadata": {},
   "outputs": [
    {
     "name": "stdout",
     "output_type": "stream",
     "text": [
      "pair of 6 and -6 makes zero\n",
      "pair of 6 and -6 makes zero\n",
      "pair of 4 and -4 makes zero\n",
      "pair of 4 and -4 makes zero\n",
      "pair of 6 and -6 makes zero\n",
      "pair of 6 and -6 makes zero\n",
      "pair of 9 and -9 makes zero\n",
      "pair of 5 and -5 makes zero\n",
      "pair of 2 and -2 makes zero\n",
      "pair of 1 and -1 makes zero\n",
      "pair of 2 and -2 makes zero\n",
      "pair of 6 and -6 makes zero\n",
      "pair of 6 and -6 makes zero\n",
      "pair of 9 and -9 makes zero\n",
      "pair of 4 and -4 makes zero\n",
      "pair of 4 and -4 makes zero\n",
      "pair of 5 and -5 makes zero\n",
      "pair of 6 and -6 makes zero\n",
      "pair of 6 and -6 makes zero\n",
      "pair of 1 and -1 makes zero\n",
      "pair of 2 and -2 makes zero\n"
     ]
    }
   ],
   "source": [
    "lst=[6,8,4,3,6,9,5,2,1,2,3,6,9,8,7,4,5,6,1,2,3,-5,-4,-6,-2,-4,-6,-9,-1]\n",
    "for i in lst:\n",
    "    if i>0:\n",
    "        for j in lst:\n",
    "            if i==(-j):\n",
    "                print(\"pair of\",i,\"and\",j,\"makes zero\")"
   ]
  },
  {
   "cell_type": "markdown",
   "metadata": {},
   "source": [
    "Given a string input, find out if it contains a particular substring."
   ]
  },
  {
   "cell_type": "code",
   "execution_count": 74,
   "metadata": {},
   "outputs": [
    {
     "name": "stdout",
     "output_type": "stream",
     "text": [
      "yes\n"
     ]
    }
   ],
   "source": [
    "a=\"gajanand mourya\"\n",
    "b=\"gajanand\"\n",
    "if b in a:\n",
    "    print(\"yes\")"
   ]
  },
  {
   "cell_type": "markdown",
   "metadata": {},
   "source": [
    "Given a string input, find out if it’s a palindrome."
   ]
  },
  {
   "cell_type": "code",
   "execution_count": 76,
   "metadata": {},
   "outputs": [
    {
     "name": "stdout",
     "output_type": "stream",
     "text": [
      "dnanajag\n"
     ]
    }
   ],
   "source": [
    "a=input(\"enter a name\")\n",
    "palin=\"\"\n",
    "for i in a:\n",
    "    palin=i+palin\n",
    "print(palin)"
   ]
  },
  {
   "cell_type": "markdown",
   "metadata": {},
   "source": [
    "Convert these two lists into a dictionary. Take the keys from the first list, and values from the second one.\n",
    "keys = [‘Ten’, ‘Twenty’, ‘Thirty’]\n",
    "values = [10, 20, 30]"
   ]
  },
  {
   "cell_type": "code",
   "execution_count": 78,
   "metadata": {},
   "outputs": [
    {
     "name": "stdout",
     "output_type": "stream",
     "text": [
      "{'ten': 10, 'twenty': 20, 'thirty': 30}\n"
     ]
    }
   ],
   "source": [
    "keys = [\"ten\",\"twenty\",\"thirty\"]\n",
    "values = [10, 20, 30]\n",
    "d=dict(zip(keys,values))\n",
    "print(d)"
   ]
  },
  {
   "cell_type": "markdown",
   "metadata": {},
   "source": [
    "Merge these two dictionaries into one using for loop\n",
    "dict1 = {‘Ten’: 10, ‘Twenty’: 20, ‘Thirty’: 30}\n",
    "dict2 = {‘Thirty’: 30, ‘Fourty’: 40, ‘Fifty’: 50}"
   ]
  },
  {
   "cell_type": "code",
   "execution_count": 83,
   "metadata": {},
   "outputs": [
    {
     "name": "stdout",
     "output_type": "stream",
     "text": [
      "{'Ten': 10, 'Twenty': 20, 'Thirty': 30, 'Fourty': 40, 'Fifty': 50}\n",
      "{'Ten': 10, 'Twenty': 20, 'Thirty': 30, 'Fourty': 40, 'Fifty': 50}\n"
     ]
    }
   ],
   "source": [
    "dict1 = {\"Ten\": 10, \"Twenty\": 20, \"Thirty\": 30}\n",
    "dict2 = {\"Thirty\": 30, \"Fourty\": 40, \"Fifty\": 50}\n",
    "print(dict1|dict2)\n",
    "print({**dict1,**dict2})"
   ]
  },
  {
   "cell_type": "markdown",
   "metadata": {},
   "source": [
    "Check if a key exists in a dictionary:\n",
    "sample_dict = {‘a’: 100, ‘b’: 200, ‘c’: 300}\n",
    "key_needed = ‘d’\n",
    "Check if a value exists in a dictionary:\n",
    "sample_dict = {‘a’: 100, ‘b’: 200, ‘c’: 300}\n",
    "value_needed = 200"
   ]
  },
  {
   "cell_type": "code",
   "execution_count": 88,
   "metadata": {},
   "outputs": [
    {
     "name": "stdout",
     "output_type": "stream",
     "text": [
      "no d is not present in {'a': 100, 'b': 200, 'c': 300}\n",
      "yes 200 is present in {'a': 100, 'b': 200, 'c': 300}\n"
     ]
    }
   ],
   "source": [
    "sample_dict = {\"a\":100,\"b\":200,\"c\":300}\n",
    "key_needed = \"d\"\n",
    "if key_needed in sample_dict.keys():\n",
    "    print(\"yes\",key_needed,\" is present in\",sample_dict)\n",
    "else:\n",
    "    print(\"no\",key_needed,\"is not present in\",sample_dict)\n",
    "sample_dict = {\"a\":100,\"b\":200,\"c\":300}\n",
    "value_needed = 200\n",
    "if value_needed in sample_dict.values():\n",
    "    print(\"yes\",value_needed,\"is present in\",sample_dict)\n",
    "else:\n",
    "    print(\"no\",value_needed,\"is not present in\",sample_dict)"
   ]
  },
  {
   "cell_type": "markdown",
   "metadata": {},
   "source": [
    "Create a new dictionary so that it only has the keys mentioned in another list\n",
    "sample_dict = { “name”: “Kelly”, “age”: 25, “salary”: 8000, “city”: “New york”}\n",
    "# Keys to extract\n",
    "keys = [“name”, “salary”]"
   ]
  },
  {
   "cell_type": "code",
   "execution_count": 92,
   "metadata": {},
   "outputs": [
    {
     "name": "stdout",
     "output_type": "stream",
     "text": [
      "{'name': 'Kelly', 'salary': 8000}\n"
     ]
    }
   ],
   "source": [
    "sample_dict = { \"name\": \"Kelly\", \"age\": 25, \"salary\": 8000, \"city\": \"New york\"}\n",
    "key = [\"name\", \"salary\"]\n",
    "new_dict={keys:sample_dict[keys] for keys in key if keys in sample_dict}\n",
    "print(new_dict)"
   ]
  },
  {
   "cell_type": "markdown",
   "metadata": {},
   "source": [
    "Remove a key from a dictionary:\n",
    "dict_name.pop(key_name)\n",
    "What does this function return?\n",
    "Use pop to rename a key."
   ]
  },
  {
   "cell_type": "code",
   "execution_count": 98,
   "metadata": {},
   "outputs": [
    {
     "data": {
      "text/plain": [
       "'Kelly'"
      ]
     },
     "execution_count": 98,
     "metadata": {},
     "output_type": "execute_result"
    }
   ],
   "source": [
    "sample_dict = { \"name\": \"Kelly\", \"age\": 25, \"salary\": 8000, \"city\": \"New york\"}\n",
    "sample_dict.pop(\"name\")\n",
    "# print(sample_dict)"
   ]
  },
  {
   "cell_type": "markdown",
   "metadata": {},
   "source": [
    "Create a dictionary to store the total marks of 5 students in the class in 3 subjects (Course1, Course2, Course3). The keys must be the student names, and the values must be the list of marks. Create another list which has the course names in the same order as the marks are stored in the dictionary values. Now write a nested for loop to print the marks for each student exam wise.\n",
    "Student1\n",
    "Course1 marks : 82\n",
    "Course2 marks : 84\n",
    "Course3 marks : 72\n",
    "Student2\n",
    "Course1 marks : 87\n",
    "Course2 marks : 83\n",
    "Course3 marks : 78"
   ]
  },
  {
   "cell_type": "code",
   "execution_count": 104,
   "metadata": {},
   "outputs": [
    {
     "ename": "TypeError",
     "evalue": "must be str, not int",
     "output_type": "error",
     "traceback": [
      "\u001b[1;31m---------------------------------------------------------------------------\u001b[0m",
      "\u001b[1;31mTypeError\u001b[0m                                 Traceback (most recent call last)",
      "\u001b[1;32mUntitled-2.ipynb Cell 30\u001b[0m line \u001b[0;36m3\n\u001b[0;32m      <a href='vscode-notebook-cell:Untitled-2.ipynb?jupyter-notebook#X42sdW50aXRsZWQ%3D?line=0'>1</a>\u001b[0m course\u001b[39m=\u001b[39m[\u001b[39m\"\u001b[39m\u001b[39mcourse1\u001b[39m\u001b[39m\"\u001b[39m,\u001b[39m\"\u001b[39m\u001b[39mcourse2\u001b[39m\u001b[39m\"\u001b[39m,\u001b[39m\"\u001b[39m\u001b[39mcourse3\u001b[39m\u001b[39m\"\u001b[39m]\n\u001b[0;32m      <a href='vscode-notebook-cell:Untitled-2.ipynb?jupyter-notebook#X42sdW50aXRsZWQ%3D?line=1'>2</a>\u001b[0m marks\u001b[39m=\u001b[39m[\u001b[39m82\u001b[39m,\u001b[39m84\u001b[39m,\u001b[39m72\u001b[39m]\n\u001b[1;32m----> <a href='vscode-notebook-cell:Untitled-2.ipynb?jupyter-notebook#X42sdW50aXRsZWQ%3D?line=2'>3</a>\u001b[0m student1\u001b[39m=\u001b[39m{keys:values \u001b[39mfor\u001b[39;49;00m keys \u001b[39min\u001b[39;49;00m course \u001b[39mfor\u001b[39;49;00m values \u001b[39min\u001b[39;49;00m marks \u001b[39mif\u001b[39;49;00m keys\u001b[39m.\u001b[39;49mindex(\u001b[39m0\u001b[39;49m)\u001b[39m==\u001b[39;49mvalues\u001b[39m.\u001b[39;49mindex(\u001b[39m0\u001b[39;49m)}\n\u001b[0;32m      <a href='vscode-notebook-cell:Untitled-2.ipynb?jupyter-notebook#X42sdW50aXRsZWQ%3D?line=3'>4</a>\u001b[0m \u001b[39mprint\u001b[39m(student1)\n",
      "\u001b[1;32mUntitled-2.ipynb Cell 30\u001b[0m line \u001b[0;36m3\n\u001b[0;32m      <a href='vscode-notebook-cell:Untitled-2.ipynb?jupyter-notebook#X42sdW50aXRsZWQ%3D?line=0'>1</a>\u001b[0m course\u001b[39m=\u001b[39m[\u001b[39m\"\u001b[39m\u001b[39mcourse1\u001b[39m\u001b[39m\"\u001b[39m,\u001b[39m\"\u001b[39m\u001b[39mcourse2\u001b[39m\u001b[39m\"\u001b[39m,\u001b[39m\"\u001b[39m\u001b[39mcourse3\u001b[39m\u001b[39m\"\u001b[39m]\n\u001b[0;32m      <a href='vscode-notebook-cell:Untitled-2.ipynb?jupyter-notebook#X42sdW50aXRsZWQ%3D?line=1'>2</a>\u001b[0m marks\u001b[39m=\u001b[39m[\u001b[39m82\u001b[39m,\u001b[39m84\u001b[39m,\u001b[39m72\u001b[39m]\n\u001b[1;32m----> <a href='vscode-notebook-cell:Untitled-2.ipynb?jupyter-notebook#X42sdW50aXRsZWQ%3D?line=2'>3</a>\u001b[0m student1\u001b[39m=\u001b[39m{keys:values \u001b[39mfor\u001b[39;00m keys \u001b[39min\u001b[39;00m course \u001b[39mfor\u001b[39;00m values \u001b[39min\u001b[39;00m marks \u001b[39mif\u001b[39;00m keys\u001b[39m.\u001b[39;49mindex(\u001b[39m0\u001b[39;49m)\u001b[39m==\u001b[39mvalues\u001b[39m.\u001b[39mindex(\u001b[39m0\u001b[39m)}\n\u001b[0;32m      <a href='vscode-notebook-cell:Untitled-2.ipynb?jupyter-notebook#X42sdW50aXRsZWQ%3D?line=3'>4</a>\u001b[0m \u001b[39mprint\u001b[39m(student1)\n",
      "\u001b[1;31mTypeError\u001b[0m: must be str, not int"
     ]
    }
   ],
   "source": [
    "course=[\"course1\",\"course2\",\"course3\"]\n",
    "marks=[82,84,72]"
   ]
  }
 ],
 "metadata": {
  "kernelspec": {
   "display_name": "Python 3",
   "language": "python",
   "name": "python3"
  },
  "language_info": {
   "codemirror_mode": {
    "name": "ipython",
    "version": 3
   },
   "file_extension": ".py",
   "mimetype": "text/x-python",
   "name": "python",
   "nbconvert_exporter": "python",
   "pygments_lexer": "ipython3",
   "version": "3.11.6"
  }
 },
 "nbformat": 4,
 "nbformat_minor": 2
}
