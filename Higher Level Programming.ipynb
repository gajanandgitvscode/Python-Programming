{
 "cells": [
  {
   "cell_type": "markdown",
   "metadata": {},
   "source": [
    "Given a list of numbers, sort it in ascending order."
   ]
  },
  {
   "cell_type": "code",
   "execution_count": 14,
   "metadata": {},
   "outputs": [
    {
     "name": "stdout",
     "output_type": "stream",
     "text": [
      "[1, 2, 2, 3, 3, 4, 5, 5, 5, 6, 9, 14]\n"
     ]
    }
   ],
   "source": [
    "l=[5,9,6,3,3,2,14,5,5,2,1,4]\n",
    "m=[]\n",
    "for i in range(len(l)):\n",
    "    a=min(l)\n",
    "    m.append(a)\n",
    "    l.remove(a)\n",
    "print(m)"
   ]
  },
  {
   "cell_type": "markdown",
   "metadata": {},
   "source": [
    "Given a list of numbers, find out the median and mode."
   ]
  },
  {
   "cell_type": "code",
   "execution_count": 19,
   "metadata": {},
   "outputs": [
    {
     "name": "stdout",
     "output_type": "stream",
     "text": [
      "median is 5\n"
     ]
    }
   ],
   "source": [
    "l=[5,9,6,3,3,2,14,5,5,2,4]\n",
    "m=[]\n",
    "for i in range(len(l)):\n",
    "    a=min(l)\n",
    "    m.append(a)\n",
    "    l.remove(a)\n",
    "if len(m)%2==0:\n",
    "    print(\"median is\",m[int(len(m)/2)],\"and\",m[int((len(m)/2)-1)])\n",
    "else:\n",
    "    print(\"median is\",m[int(len(m)//2)])"
   ]
  },
  {
   "cell_type": "markdown",
   "metadata": {},
   "source": [
    "Given an arithmetic expression as an input string, solve the expression and print the result."
   ]
  },
  {
   "cell_type": "code",
   "execution_count": 23,
   "metadata": {},
   "outputs": [
    {
     "name": "stdout",
     "output_type": "stream",
     "text": [
      "18\n"
     ]
    }
   ],
   "source": [
    "a=\"5+5+9-1\"\n",
    "print(eval(a))"
   ]
  }
 ],
 "metadata": {
  "kernelspec": {
   "display_name": "Python 3",
   "language": "python",
   "name": "python3"
  },
  "language_info": {
   "codemirror_mode": {
    "name": "ipython",
    "version": 3
   },
   "file_extension": ".py",
   "mimetype": "text/x-python",
   "name": "python",
   "nbconvert_exporter": "python",
   "pygments_lexer": "ipython3",
   "version": "3.11.6"
  }
 },
 "nbformat": 4,
 "nbformat_minor": 2
}
