{
  "cells": [
    {
      "cell_type": "markdown",
      "metadata": {
        "id": "DlOtkbEOnRxH"
      },
      "source": [
        "# Section 1 : List Basics"
      ]
    },
    {
      "cell_type": "code",
      "execution_count": 2,
      "metadata": {
        "id": "zM4HjHP8nXMx"
      },
      "outputs": [
        {
          "name": "stdout",
          "output_type": "stream",
          "text": [
            "<class 'list'>\n",
            "['h', 't', 'u']\n"
          ]
        }
      ],
      "source": [
        "# Input several numbers from the user using the input function in one go (each number separated by a space)\n",
        "string = input(\"Enter elements (Space-Separated): \")\n",
        "list_of_inputs = string.split() # splits the string into small elements separated by comma and enclosed in quotations.\n",
        "\n",
        "print(type(list_of_inputs))\n",
        "\n",
        "print(list_of_inputs)\n",
        "\n"
      ]
    },
    {
      "cell_type": "code",
      "execution_count": 6,
      "metadata": {
        "id": "q-P_CJKn-XwM"
      },
      "outputs": [
        {
          "name": "stdout",
          "output_type": "stream",
          "text": [
            "<class 'list'>\n",
            "[94, 93, 90]\n",
            "93\n",
            "90\n",
            "90\n",
            "maths\n",
            "chemistry\n",
            "physics\n",
            "98\n",
            "99\n"
          ]
        }
      ],
      "source": [
        "# Make a list of marks that you got in Physics, Chemistry and Maths in your +2 board exam\n",
        "# Write the marks manually without using the input function\n",
        "sub=[\"physics\",\"chemistry\",\"maths\"]\n",
        "marks12=[94,93,90]\n",
        "print(type(marks12))\n",
        "print(marks12)\n",
        "len_sub=len(sub)   # function to find no. of elements in list.\n",
        "print(marks12[1])\n",
        "print(marks12[2])\n",
        "print(marks12[len_sub-1])  #marks[index of the element]\n",
        "print(sub[-1])     # -1 gives the last element of a list\n",
        "print(sub[-2])\n",
        "print(sub[-3])\n",
        "marks12[1]=98\n",
        "marks12[2]=99\n",
        "print(marks12[1])\n",
        "print(marks12[2])"
      ]
    },
    {
      "cell_type": "code",
      "execution_count": 17,
      "metadata": {
        "id": "8esVquAs9ds_"
      },
      "outputs": [
        {
          "name": "stdout",
          "output_type": "stream",
          "text": [
            "[94, 93, 90, 85]\n"
          ]
        }
      ],
      "source": [
        "# Print the list\n",
        " "
      ]
    },
    {
      "cell_type": "code",
      "execution_count": null,
      "metadata": {
        "id": "-Z6VdJXC9dv3"
      },
      "outputs": [],
      "source": [
        "# Find the length of the list\n",
        "\n"
      ]
    },
    {
      "cell_type": "code",
      "execution_count": null,
      "metadata": {
        "id": "RB_pThmn9dyN"
      },
      "outputs": [],
      "source": [
        "# Print the first element of the list\n",
        "\n"
      ]
    },
    {
      "cell_type": "code",
      "execution_count": null,
      "metadata": {
        "id": "6hrgb0Sb9d02"
      },
      "outputs": [],
      "source": [
        "# Print the last element of the list\n",
        "\n"
      ]
    },
    {
      "cell_type": "code",
      "execution_count": null,
      "metadata": {
        "id": "6AEMgv0Q9d38"
      },
      "outputs": [],
      "source": [
        "#  Print the second element of the list\n",
        "\n"
      ]
    },
    {
      "cell_type": "code",
      "execution_count": null,
      "metadata": {
        "id": "U6zZL_YgloCv"
      },
      "outputs": [],
      "source": [
        "# Change your marks for Chemistry and Maths in this list\n",
        "\n"
      ]
    },
    {
      "cell_type": "markdown",
      "metadata": {
        "id": "ml2rzueuWTEF"
      },
      "source": [
        "# Section 2 : Simple List functions"
      ]
    },
    {
      "cell_type": "code",
      "execution_count": 32,
      "metadata": {
        "id": "U2ViC-J8niYo"
      },
      "outputs": [
        {
          "name": "stdout",
          "output_type": "stream",
          "text": [
            "[94, 93, 90, 85]\n"
          ]
        }
      ],
      "source": [
        "# Append your marks for Hindi or English to this list\n",
        "marks12=[94,93,90]\n",
        "marks12.append(85)\n",
        "print(marks12)\n",
        "\n"
      ]
    },
    {
      "cell_type": "code",
      "execution_count": 31,
      "metadata": {
        "id": "JvhmhUeo9d9a"
      },
      "outputs": [
        {
          "name": "stdout",
          "output_type": "stream",
          "text": [
            "[94, 93, 90]\n"
          ]
        }
      ],
      "source": [
        "# Create a blank list and append your marks for P, C, M and Language in +2 one by one to this list using the append function\n",
        "# Once done, find the length of the list\n",
        "\n",
        "marks12=[]\n",
        "marks12.append(94)\n",
        "marks12.append(93)\n",
        "marks12.append(90)\n",
        "print(marks12)"
      ]
    },
    {
      "cell_type": "code",
      "execution_count": 10,
      "metadata": {
        "id": "GJgcw1sP9mtt"
      },
      "outputs": [
        {
          "name": "stdout",
          "output_type": "stream",
          "text": [
            "[88, 97, 85]\n"
          ]
        }
      ],
      "source": [
        "# Create a new blank list and append your marks for Science, Math and Language in 10th class one by one to this list using the append function\n",
        "# Once done, find the length of the list\n",
        "marks10=[]\n",
        "marks10.append(88)\n",
        "marks10.append(97)\n",
        "marks10.append(85)\n",
        "print(marks10)"
      ]
    },
    {
      "cell_type": "code",
      "execution_count": 12,
      "metadata": {
        "id": "mC5ldExy9mwc"
      },
      "outputs": [
        {
          "name": "stdout",
          "output_type": "stream",
          "text": [
            "[88, 97, 85]\n"
          ]
        }
      ],
      "source": [
        "# Create a new blank list and add to it the marks for +2 and 10th class from the above lists using the extend function\n",
        "marks=[]\n",
        "marks.append(marks12)\n",
        "marks.extend(marks10)\n",
        "print(marks)"
      ]
    },
    {
      "cell_type": "code",
      "execution_count": 17,
      "metadata": {
        "id": "C-0IUVOn9mzD"
      },
      "outputs": [
        {
          "name": "stdout",
          "output_type": "stream",
          "text": [
            "[78, 4, 4, 1, 2, 3, 6, 9, 5, 1]\n"
          ]
        }
      ],
      "source": [
        "# Reverse the above list using the list_name.reverse() function\n",
        "num=[1,5,9,6,3,2,1,4,4,78]\n",
        "num.reverse()\n",
        "print(num)"
      ]
    },
    {
      "cell_type": "code",
      "execution_count": 18,
      "metadata": {
        "id": "kCkQJSmu9m2L"
      },
      "outputs": [
        {
          "data": {
            "text/plain": [
              "[1, 5, 9, 6, 3, 2, 1, 4, 4, 78]"
            ]
          },
          "execution_count": 18,
          "metadata": {},
          "output_type": "execute_result"
        }
      ],
      "source": [
        "# Reverse the above (reversed) list using list(reversed(list_name)) function. So you should get back the original list\n",
        "list(reversed(num)) #reverses the updated list"
      ]
    },
    {
      "cell_type": "code",
      "execution_count": 82,
      "metadata": {
        "id": "-Z1oBJOQ9m4i"
      },
      "outputs": [
        {
          "name": "stdout",
          "output_type": "stream",
          "text": [
            "[1, 2, 6, 9, 5, 1]\n"
          ]
        }
      ],
      "source": [
        "# Remove the Maths marks from all the three lists using list_name.remove(element) funct\n",
        "num.remove(3)    #it will also remove the element from previous codes i.e. updates the original list\n",
        "print(num)\n"
      ]
    },
    {
      "cell_type": "code",
      "execution_count": 87,
      "metadata": {
        "id": "Di1e-WdM9m7s"
      },
      "outputs": [
        {
          "name": "stdout",
          "output_type": "stream",
          "text": [
            "no\n"
          ]
        }
      ],
      "source": [
        "# Before trying to remove an element, better to check if its even there in the list or not\n",
        "if 4 in num:\n",
        "    print(\"yes\")\n",
        "else:\n",
        "    print(\"no\")\n"
      ]
    },
    {
      "cell_type": "markdown",
      "metadata": {
        "id": "WChMBslwWCdt"
      },
      "source": [
        "# Section 3 : List Slicing"
      ]
    },
    {
      "cell_type": "code",
      "execution_count": 23,
      "metadata": {
        "id": "JLHlUnj79m-f"
      },
      "outputs": [
        {
          "name": "stdout",
          "output_type": "stream",
          "text": [
            "[65, 3, 69]\n"
          ]
        }
      ],
      "source": [
        "# From the list of all marks, print all the items from second marks onwards\n",
        "marks=[52,65,98,3,54,69,54]\n",
        "print(marks[1:7:2])\n"
      ]
    },
    {
      "cell_type": "code",
      "execution_count": null,
      "metadata": {
        "id": "0PA8e0wx9nBY"
      },
      "outputs": [],
      "source": [
        "# From the list of all marks, print all the items from second marks up to the fourth marks\n",
        "\n"
      ]
    },
    {
      "cell_type": "code",
      "execution_count": null,
      "metadata": {
        "id": "9PnboOAE9nEP"
      },
      "outputs": [],
      "source": [
        "# From the list of all marks, print all the items from second marks up to the penultimate marks\n",
        "\n"
      ]
    },
    {
      "cell_type": "code",
      "execution_count": null,
      "metadata": {
        "id": "puwG2_LaYnkb"
      },
      "outputs": [],
      "source": [
        "# Print every element at the odd position in the list\n",
        "\n"
      ]
    },
    {
      "cell_type": "code",
      "execution_count": 6,
      "metadata": {
        "id": "G7PTQphbYsiM"
      },
      "outputs": [
        {
          "name": "stdout",
          "output_type": "stream",
          "text": [
            "[52, 98, 54, 54]\n"
          ]
        }
      ],
      "source": [
        "# Print every element at the even position in the list\n",
        "print(marks[0:7:2])"
      ]
    },
    {
      "cell_type": "markdown",
      "metadata": {
        "id": "6kBuGXElV-OI"
      },
      "source": [
        "# Section 4 : Simple List computations"
      ]
    },
    {
      "cell_type": "code",
      "execution_count": 98,
      "metadata": {
        "id": "A9lWq__V9nHH"
      },
      "outputs": [
        {
          "data": {
            "text/plain": [
              "395"
            ]
          },
          "execution_count": 98,
          "metadata": {},
          "output_type": "execute_result"
        }
      ],
      "source": [
        "# Find the sum of all the marks in your list using the sum(list_name) function\n",
        "sum(marks)\n"
      ]
    },
    {
      "cell_type": "code",
      "execution_count": 99,
      "metadata": {
        "id": "eo2ChNLu9nLQ"
      },
      "outputs": [
        {
          "data": {
            "text/plain": [
              "98"
            ]
          },
          "execution_count": 99,
          "metadata": {},
          "output_type": "execute_result"
        }
      ],
      "source": [
        "# Find the maximum of all the marks in your list using the max(list_name) function\n",
        "\n",
        "max(marks)"
      ]
    },
    {
      "cell_type": "code",
      "execution_count": 103,
      "metadata": {
        "id": "63kzedXlDO-g"
      },
      "outputs": [
        {
          "data": {
            "text/plain": [
              "3"
            ]
          },
          "execution_count": 103,
          "metadata": {},
          "output_type": "execute_result"
        }
      ],
      "source": [
        "# Find the minimum of all the marks in your list using the min(list_name) function\n",
        "min(marks)\n"
      ]
    },
    {
      "cell_type": "code",
      "execution_count": 104,
      "metadata": {},
      "outputs": [
        {
          "name": "stdout",
          "output_type": "stream",
          "text": [
            "56.42857142857143\n"
          ]
        }
      ],
      "source": [
        "#  To find average of numbers\n",
        "avg=sum(marks)/len(marks)\n",
        "print(avg)"
      ]
    },
    {
      "cell_type": "markdown",
      "metadata": {
        "id": "2NhjngNAV3II"
      },
      "source": [
        "# Section 5 : Create a List using the range() function"
      ]
    },
    {
      "cell_type": "code",
      "execution_count": 128,
      "metadata": {
        "id": "3ZGvch8YDPH-"
      },
      "outputs": [
        {
          "name": "stdout",
          "output_type": "stream",
          "text": [
            "[1, 2, 3, 4, 5, 6, 7, 8, 9, 10, 11, 12, 13, 14, 15, 16, 17, 18, 19, 20, 21, 22, 23, 24, 25, 26, 27, 28, 29, 30, 31, 32, 33, 34, 35, 36, 37, 38, 39, 40, 41, 42, 43, 44, 45, 46, 47, 48, 49, 50, 51, 52, 53, 54, 55, 56, 57, 58, 59, 60, 61, 62, 63, 64, 65, 66, 67, 68, 69, 70, 71, 72, 73, 74, 75, 76, 77, 78, 79, 80, 81, 82, 83, 84, 85, 86, 87, 88, 89, 90, 91, 92, 93, 94, 95, 96, 97, 98, 99, 100]\n",
            "5050\n",
            "50.5\n"
          ]
        }
      ],
      "source": [
        "# Create a list of integers using the list(range(n)) function, where n can be any integer within the limits of your computer\n",
        "\n",
        "list_of_numbers=list(range(101))\n",
        "print(list_of_numbers)\n",
        "print(sum(list_of_numbers))\n",
        "print(sum(list_of_numbers)/len(list_of_numbers))"
      ]
    },
    {
      "cell_type": "code",
      "execution_count": 131,
      "metadata": {
        "id": "GxMM3HiODPLD"
      },
      "outputs": [
        {
          "name": "stdout",
          "output_type": "stream",
          "text": [
            "[0, 1, 2, 3, 4, 5, 6, 7, 8, 9, 10, 11, 12, 13, 14, 15, 16, 17, 18, 19, 20, 21, 22, 23, 24, 25, 26, 27, 28, 29, 30, 31, 32, 33, 34, 35, 36, 37, 38, 39, 40, 41, 42, 43, 44, 45, 46, 47, 48, 49]\n"
          ]
        }
      ],
      "source": [
        "# What does this function give : list(range(n1, n2))\n",
        "listi=list(range(50))\n",
        "print(listi)\n"
      ]
    },
    {
      "cell_type": "code",
      "execution_count": 134,
      "metadata": {
        "id": "JI1lemr2DPNp"
      },
      "outputs": [
        {
          "name": "stdout",
          "output_type": "stream",
          "text": [
            "[1, 3, 5, 7, 9, 11, 13, 15, 17, 19, 21, 23, 25, 27, 29, 31, 33, 35, 37, 39, 41, 43, 45, 47, 49]\n"
          ]
        }
      ],
      "source": [
        "# What does this function give : list(range(n1, n2, n3))\n",
        "listo=list(range(1,51,2))\n",
        "print(listo)"
      ]
    },
    {
      "cell_type": "code",
      "execution_count": 136,
      "metadata": {
        "id": "FXBXCz5XJgWT"
      },
      "outputs": [
        {
          "name": "stdout",
          "output_type": "stream",
          "text": [
            "[1, 2, 3, 4, 5, 6, 7, 8, 9, 10, 11, 12, 13, 14, 15, 16, 17, 18, 19, 20, 21, 22, 23, 24, 25, 26, 27, 28, 29, 30, 31, 32, 33, 34, 35, 36, 37, 38, 39, 40, 41, 42, 43, 44, 45, 46, 47, 48, 49, 50, 51, 52, 53, 54, 55, 56, 57, 58, 59, 60, 61, 62, 63, 64, 65, 66, 67, 68, 69, 70, 71, 72, 73, 74, 75, 76, 77, 78, 79, 80, 81, 82, 83, 84, 85, 86, 87, 88, 89, 90, 91, 92, 93, 94, 95, 96, 97, 98, 99, 100]\n"
          ]
        },
        {
          "data": {
            "text/plain": [
              "5050"
            ]
          },
          "execution_count": 136,
          "metadata": {},
          "output_type": "execute_result"
        }
      ],
      "source": [
        "# Create a list of first 100 integers, and find their sum\n",
        "listu=list(range(1,101))\n",
        "print(listu)\n",
        "sum(listu)"
      ]
    },
    {
      "cell_type": "code",
      "execution_count": 137,
      "metadata": {
        "id": "WdTp1cR9JgZb"
      },
      "outputs": [
        {
          "name": "stdout",
          "output_type": "stream",
          "text": [
            "50.5\n"
          ]
        }
      ],
      "source": [
        "# Create a list of first 100 integers, and find their average\n",
        "print(sum(listu)/len(listu))"
      ]
    },
    {
      "cell_type": "code",
      "execution_count": 142,
      "metadata": {
        "id": "6G3ZpXIYJgcT"
      },
      "outputs": [
        {
          "name": "stdout",
          "output_type": "stream",
          "text": [
            "[0, 2, 4, 6, 8, 10, 12, 14, 16, 18, 20, 22, 24, 26, 28, 30, 32, 34, 36, 38, 40, 42, 44, 46, 48, 50, 52, 54, 56, 58, 60, 62, 64, 66, 68, 70, 72, 74, 76, 78, 80, 82, 84, 86, 88, 90, 92, 94, 96, 98]\n",
            "2450\n",
            "49.0\n"
          ]
        }
      ],
      "source": [
        "# Create a list of even numbers in the range 1-100, and find their sum as well as average\n",
        "listr=list(range(0,100,2))\n",
        "print(listr)\n",
        "print(sum(listr))\n",
        "print(sum(listr)/len(listr))"
      ]
    },
    {
      "cell_type": "code",
      "execution_count": 144,
      "metadata": {
        "id": "XachAnw3Jgfb"
      },
      "outputs": [
        {
          "name": "stdout",
          "output_type": "stream",
          "text": [
            "[1, 3, 5, 7, 9, 11, 13, 15, 17, 19, 21, 23, 25, 27, 29, 31, 33, 35, 37, 39, 41, 43, 45, 47, 49, 51, 53, 55, 57, 59, 61, 63, 65, 67, 69, 71, 73, 75, 77, 79, 81, 83, 85, 87, 89, 91, 93, 95, 97, 99]\n",
            "2500\n",
            "50.0\n"
          ]
        }
      ],
      "source": [
        "# Create a list of odd numbers in the range 1-100, and find their sum as well as average\n",
        "listee=list(range(1,101,2))\n",
        "print(listee)\n",
        "print(sum(listee))\n",
        "print(sum(listee)/len(listee))"
      ]
    },
    {
      "cell_type": "code",
      "execution_count": 24,
      "metadata": {
        "id": "HVY2L4L4Jgij"
      },
      "outputs": [
        {
          "name": "stdout",
          "output_type": "stream",
          "text": [
            "[20, 6, 5, 8, 9, 2, 7]\n"
          ]
        }
      ],
      "source": [
        "# Make a copy of your list and change the first element of this new list. See what happens to the original list\n",
        "\n",
        "list1=[1,6,5,8,9,2,7]\n",
        "list2=list1.copy()\n",
        "list2[0]=20\n",
        "print(list2)"
      ]
    },
    {
      "cell_type": "markdown",
      "metadata": {
        "id": "vwK1cyynVWpR"
      },
      "source": [
        "# Section 6 : DIY Exercises"
      ]
    },
    {
      "cell_type": "code",
      "execution_count": 9,
      "metadata": {
        "id": "4elIBjlJVZKO"
      },
      "outputs": [
        {
          "name": "stdout",
          "output_type": "stream",
          "text": [
            "[78, 5, 6, 2, 4, 7, 9, 5, 4, 1]\n"
          ]
        }
      ],
      "source": [
        "# In a given list of numbers, swap the first and last element\n",
        "lista=[1,5,6,2,4,7,9,5,4,78]\n",
        "num=lista[0]\n",
        "lista[0]=lista[-1]\n",
        "lista[-1]=num\n",
        "print(lista)\n"
      ]
    },
    {
      "cell_type": "code",
      "execution_count": 18,
      "metadata": {
        "id": "fdOsCMtPVZNT"
      },
      "outputs": [
        {
          "name": "stdout",
          "output_type": "stream",
          "text": [
            "[1, 3, 6, 5, 2, 4, 7, 8, 9, 55, 66, 11, 44, 88, 99]\n"
          ]
        }
      ],
      "source": [
        "# In a given list of numbers, swap the second and fourth element\n",
        "listoo=[1,5,6,3,2,4,7,8,9,55,66,11,44,88,99]\n",
        "num=listoo[1]\n",
        "listoo[1]=listoo[3]\n",
        "listoo[3]=num\n",
        "print(listoo)"
      ]
    },
    {
      "cell_type": "code",
      "execution_count": 17,
      "metadata": {
        "id": "gNK-tRxdVZQc"
      },
      "outputs": [
        {
          "name": "stdout",
          "output_type": "stream",
          "text": [
            "[4, 8]\n"
          ]
        }
      ],
      "source": [
        "# Take a list of two numbers and arrange them in ascending order\n",
        "listi=[8,4]\n",
        "if listi[0]<listi[1]:\n",
        "    print(\"listi is already in accending order\")\n",
        "else:\n",
        "    num=listi[0]\n",
        "    listi[0]=listi[1]\n",
        "    listi[1]=num\n",
        "    print(listi) \n"
      ]
    },
    {
      "cell_type": "code",
      "execution_count": 3,
      "metadata": {},
      "outputs": [
        {
          "name": "stdout",
          "output_type": "stream",
          "text": [
            "[[97, 88, 85], [94, 93, 90]]\n"
          ]
        }
      ],
      "source": [
        "# create two lists: one having 10th class board marks and another having +2 board marks \n",
        "# create another list that contain both the lists\n",
        "marks10=[97,88,85]\n",
        "marks12=[94,93,90]\n",
        "combi=[]\n",
        "combi.append(marks10)\n",
        "combi.append(marks12)\n",
        "print(combi)"
      ]
    },
    {
      "cell_type": "code",
      "execution_count": 2,
      "metadata": {
        "id": "STUZssuWYbKM"
      },
      "outputs": [
        {
          "name": "stdout",
          "output_type": "stream",
          "text": [
            "88\n"
          ]
        }
      ],
      "source": [
        "# In the above list of lists, print the marks in the 2nd element of the first list\n",
        "print(combi[0][1])"
      ]
    },
    {
      "cell_type": "code",
      "execution_count": null,
      "metadata": {
        "id": "KIGZ86CUDPQP"
      },
      "outputs": [],
      "source": [
        "# Reference for further learning : https://www.geeksforgeeks.org/python-lists/"
      ]
    }
  ],
  "metadata": {
    "colab": {
      "collapsed_sections": [
        "DlOtkbEOnRxH",
        "ml2rzueuWTEF",
        "WChMBslwWCdt",
        "6kBuGXElV-OI",
        "2NhjngNAV3II",
        "vwK1cyynVWpR"
      ],
      "provenance": []
    },
    "kernelspec": {
      "display_name": "Python 3",
      "name": "python3"
    },
    "language_info": {
      "codemirror_mode": {
        "name": "ipython",
        "version": 3
      },
      "file_extension": ".py",
      "mimetype": "text/x-python",
      "name": "python",
      "nbconvert_exporter": "python",
      "pygments_lexer": "ipython3",
      "version": "3.11.4"
    }
  },
  "nbformat": 4,
  "nbformat_minor": 0
}
