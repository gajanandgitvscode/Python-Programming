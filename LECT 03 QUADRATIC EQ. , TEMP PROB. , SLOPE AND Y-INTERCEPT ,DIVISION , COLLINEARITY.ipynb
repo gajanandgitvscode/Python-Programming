{
 "cells": [
  {
   "cell_type": "markdown",
   "metadata": {},
   "source": [
    "TO FIND THE QUADRANT OF A GIVEN POINT ON 2D SPACE."
   ]
  },
  {
   "cell_type": "code",
   "execution_count": 5,
   "metadata": {},
   "outputs": [
    {
     "name": "stdout",
     "output_type": "stream",
     "text": [
      "point is in third quadrant\n"
     ]
    }
   ],
   "source": [
    "x=float(input(\"x coordinate\"))\n",
    "y=float(input(\"y coordinate\"))\n",
    "point=(x,y)\n",
    "\n",
    "if x>0 and y>0:\n",
    "    print(\"point is in first quadrant\")\n",
    "elif x<0 and y>0:\n",
    "    print(\"point is in second quadrant\")\n",
    "elif x<0 and y<0:\n",
    "    print(\"point is in third quadrant\")\n",
    "elif x>0 and y<0:\n",
    "    print(\"point is in third quadrant\")\n",
    "else:\n",
    "    print(\"point is at origin\")"
   ]
  },
  {
   "cell_type": "markdown",
   "metadata": {},
   "source": [
    "TEMPREATURE PROBLEM"
   ]
  },
  {
   "cell_type": "code",
   "execution_count": 6,
   "metadata": {},
   "outputs": [
    {
     "name": "stdout",
     "output_type": "stream",
     "text": [
      "it is hot\n"
     ]
    }
   ],
   "source": [
    "F=float(input(\"fill the temperature in farehnite\"))\n",
    "C=(5/9)*(F-32)\n",
    "\n",
    "if C<10:\n",
    "    print(\"it is cold\")\n",
    "elif C<25:\n",
    "    print(\"it is pleasant\")\n",
    "elif C<35:\n",
    "    print(\"it is warm\")\n",
    "else:\n",
    "    print(\"it is hot\")"
   ]
  },
  {
   "cell_type": "markdown",
   "metadata": {},
   "source": [
    "CALCULATION OF SLOPE AND Y-INTERCEPT WHEN TWO POINTS ARE GIVEN"
   ]
  },
  {
   "cell_type": "code",
   "execution_count": 4,
   "metadata": {},
   "outputs": [
    {
     "name": "stdout",
     "output_type": "stream",
     "text": [
      "the line is vertical and there is no y-intercept\n"
     ]
    }
   ],
   "source": [
    "x1=float(input(\"x1\"))\n",
    "y1=float(input(\"y1\"))\n",
    "x2=float(input(\"x2\"))\n",
    "y2=float(input(\"y2\"))\n",
    "\n",
    "point1=(x1,y1)\n",
    "point2=(x2,y2)\n",
    "\n",
    "if (x2-x1)==0:\n",
    "    print(\"the line is vertical and there is no y-intercept\")\n",
    "else:\n",
    "    slope=(y2-y1)/(x2-x1)\n",
    "    print(\"slope is\",slope)\n",
    "    print(\"y intercept is\",y2-(x2*slope))"
   ]
  },
  {
   "cell_type": "markdown",
   "metadata": {},
   "source": [
    "DIVISION OF A NO BY ANOTHER NO "
   ]
  },
  {
   "cell_type": "code",
   "execution_count": 31,
   "metadata": {},
   "outputs": [
    {
     "name": "stdout",
     "output_type": "stream",
     "text": [
      "solution is not defined\n"
     ]
    }
   ],
   "source": [
    "a=float(input(\"a=\"))\n",
    "b=float(input(\"b=\"))\n",
    "if b==0:\n",
    "    print(\"solution is not defined\")\n",
    "else:\n",
    "    print(a/b)"
   ]
  },
  {
   "cell_type": "markdown",
   "metadata": {},
   "source": [
    "FINDING THE SOLUTION OF A QUADRATIC EQUATION"
   ]
  },
  {
   "cell_type": "code",
   "execution_count": 52,
   "metadata": {},
   "outputs": [
    {
     "name": "stdout",
     "output_type": "stream",
     "text": [
      "this is not an equation\n"
     ]
    }
   ],
   "source": [
    "# the quadratic equation is given by ax2+bx+c=0\n",
    "# where a, b, c are the coeffcients\n",
    "a=float(input(\"a=\"))\n",
    "b=float(input(\"b=\"))\n",
    "c=float(input(\"c=\"))\n",
    "\n",
    "if a==0 and b==0:\n",
    "    print(\"this is not an equation\",)\n",
    "elif a==0:\n",
    "    print(\"the given equation is a linear equation\")\n",
    "    print(\"the solution of linear equation is\",-c/b)\n",
    "\n",
    "elif (b**2)-(4*a*c)<0:\n",
    "    print(\"solutions are imaginary\")\n",
    "    print(\"real part of solution 1 and solution 2 is\",-b/(2*a))\n",
    "    print(\"imaginary part of solution 1 is\",((4*a*c - b**2)**(1/2))/2*a)\n",
    "    print(\"imaginary part of solution 2 is\",(-((4*a*c - b**2)**(1/2)))/2*a)\n",
    "\n",
    "elif (b**2)-(4*a*c)==0:\n",
    "    print(\"solutions are real and equal\")\n",
    "    print(\"solution is\",(-b/(2*a)))\n",
    "else:\n",
    "    print(\"solutions are real and distinct\")\n",
    "    print(\"solution 1 is\",(-b+((b**2)-(4*a*c))**(1/2))/(2*a))\n",
    "    print(\"solution 2 is\",(-b-((b**2)-(4*a*c))**(1/2))/(2*a))"
   ]
  },
  {
   "cell_type": "markdown",
   "metadata": {},
   "source": [
    "CHECK WHETHER THREE POINTS LIE ON A STRAIGHT LINE OR NOT"
   ]
  },
  {
   "cell_type": "code",
   "execution_count": 32,
   "metadata": {},
   "outputs": [
    {
     "name": "stdout",
     "output_type": "stream",
     "text": [
      "points not lie on straight line\n"
     ]
    }
   ],
   "source": [
    "x1=float(input(\"x1=\"))\n",
    "y1=float(input(\"y1=\"))\n",
    "x2=float(input(\"x2=\"))\n",
    "y2=float(input(\"y3=\"))\n",
    "x3=float(input(\"x3=\"))\n",
    "y3=float(input(\"y3=\"))\n",
    "\n",
    "# point1=(x1,y1)\n",
    "# point2=(x2,y2)\n",
    "# point3=(x3,y3)\n",
    "\n",
    "if(x1*(y2-y3) + x2*(y3-y1) + x3*(y1-y2))==0:\n",
    "    print(\"points lie on a straight line\")\n",
    "else:\n",
    "    print(\"points not lie on straight line\")"
   ]
  }
 ],
 "metadata": {
  "kernelspec": {
   "display_name": "Python 3",
   "language": "python",
   "name": "python3"
  },
  "language_info": {
   "codemirror_mode": {
    "name": "ipython",
    "version": 3
   },
   "file_extension": ".py",
   "mimetype": "text/x-python",
   "name": "python",
   "nbconvert_exporter": "python",
   "pygments_lexer": "ipython3",
   "version": "3.11.4"
  },
  "orig_nbformat": 4
 },
 "nbformat": 4,
 "nbformat_minor": 2
}
