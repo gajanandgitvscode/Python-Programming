{
 "cells": [
  {
   "cell_type": "markdown",
   "metadata": {},
   "source": [
    "Given an integer, check if it is even or odd."
   ]
  },
  {
   "cell_type": "code",
   "execution_count": 2,
   "metadata": {},
   "outputs": [
    {
     "name": "stdout",
     "output_type": "stream",
     "text": [
      "odd\n"
     ]
    }
   ],
   "source": [
    "a=int(input(\"enter an integer\"))\n",
    "if a%2==0:\n",
    "    print(\"even\")\n",
    "else:\n",
    "    print(\"odd\")"
   ]
  },
  {
   "cell_type": "markdown",
   "metadata": {},
   "source": [
    "Given two integers, find the larger one."
   ]
  },
  {
   "cell_type": "code",
   "execution_count": 4,
   "metadata": {},
   "outputs": [
    {
     "name": "stdout",
     "output_type": "stream",
     "text": [
      "9 is greater than 5\n"
     ]
    }
   ],
   "source": [
    "a=int(input(\"enter a\"))\n",
    "b=int(input(\"enter b\"))\n",
    "if a>b:\n",
    "    print(a,\"is greater than\",b)\n",
    "else:\n",
    "    print(b,\"is greater than\",a)"
   ]
  },
  {
   "cell_type": "markdown",
   "metadata": {},
   "source": [
    "Given a temperature in Celsius, convert it to Fahrenheit using the formula F = (C * 1.8) + 32. If the temperature is above 90°F, print “It’s hot outside!” otherwise, print “The temperature is pleasant”."
   ]
  },
  {
   "cell_type": "code",
   "execution_count": 6,
   "metadata": {},
   "outputs": [
    {
     "name": "stdout",
     "output_type": "stream",
     "text": [
      "it is hot\n"
     ]
    }
   ],
   "source": [
    "c=float(input(\"enter temp in celcius\"))\n",
    "f=(c*1.8)+32\n",
    "if f>90:\n",
    "    print(\"it is hot\")\n",
    "else:\n",
    "    print(\"tempreature is pleasent\")"
   ]
  },
  {
   "cell_type": "markdown",
   "metadata": {},
   "source": [
    "Given a year, check if it is a leap year or not. A leap year is divisible by 4, except for years that are divisible by 100. However, years that are divisible by 400 are also leap years."
   ]
  },
  {
   "cell_type": "code",
   "execution_count": 10,
   "metadata": {},
   "outputs": [
    {
     "name": "stdout",
     "output_type": "stream",
     "text": [
      "not a leap year\n"
     ]
    }
   ],
   "source": [
    "year=int(input(\"enter year\"))\n",
    "if year%100:\n",
    "    print(\"not a leap year\")\n",
    "elif year%4==0 or year%400==0:\n",
    "    print(\"leap year\")\n",
    "else:\n",
    "    print(\"not a leap year\")"
   ]
  },
  {
   "cell_type": "markdown",
   "metadata": {},
   "source": [
    "Given two numbers, a and b, find the value of a/b (b may be zero)."
   ]
  },
  {
   "cell_type": "code",
   "execution_count": 12,
   "metadata": {},
   "outputs": [
    {
     "name": "stdout",
     "output_type": "stream",
     "text": [
      "2.5\n"
     ]
    }
   ],
   "source": [
    "a=int(input(\"a\"))\n",
    "b=int(input(\"b\"))\n",
    "if b==0:\n",
    "    print(\"division is not defined\")\n",
    "else:\n",
    "    print(a/b)"
   ]
  },
  {
   "cell_type": "markdown",
   "metadata": {},
   "source": [
    "Given a point (x1, y1), find the quadrant in which this point lies."
   ]
  },
  {
   "cell_type": "code",
   "execution_count": 18,
   "metadata": {},
   "outputs": [
    {
     "name": "stdout",
     "output_type": "stream",
     "text": [
      "2nd quadrant\n"
     ]
    }
   ],
   "source": [
    "x=float(input(\"x\"))\n",
    "y=float(input(\"y\"))\n",
    "if x==0 and y==0:\n",
    "    print(\"point is at origin\")\n",
    "elif x>0 and y>0:\n",
    "    print(\"1st quadrant\")\n",
    "elif x>0 and y<0:\n",
    "    print(\"4th quadrant\")\n",
    "elif x<0 and y>0:\n",
    "    print(\"2nd quadrant\")\n",
    "else:\n",
    "    print(\"3rd quadrant\")"
   ]
  },
  {
   "cell_type": "markdown",
   "metadata": {},
   "source": [
    "Given two points (x1, y1) and (x2, y2), find the slope and intercept of the line joining these two points (the line may be perfectly horizontal or vertical)."
   ]
  },
  {
   "cell_type": "code",
   "execution_count": 23,
   "metadata": {},
   "outputs": [
    {
     "name": "stdout",
     "output_type": "stream",
     "text": [
      "1.0\n"
     ]
    }
   ],
   "source": [
    "x1=float(input(\"x1\"))\n",
    "x2=float(input(\"x2\"))\n",
    "y1=float(input(\"y1\"))\n",
    "y2=float(input(\"y2\"))\n",
    "if x2-x1==0:\n",
    "    print(\"line is perfectlly vertical\")\n",
    "elif y2-y1==0:\n",
    "    print(\"line is perfectly horizontal and slope is\",(y2-y1)/(x2-x1))\n",
    "else:\n",
    "    print((y2-y1)/(x2-x1))"
   ]
  },
  {
   "cell_type": "markdown",
   "metadata": {},
   "source": [
    "Given a quadratic equation with coefficients a, b and c, find the two solutions (may be real or complex). You should not take the square root of a negative number in your code."
   ]
  },
  {
   "cell_type": "code",
   "execution_count": 32,
   "metadata": {},
   "outputs": [
    {
     "name": "stdout",
     "output_type": "stream",
     "text": [
      "one root is 5.656854249492381\n",
      "second root is -5.656854249492381\n"
     ]
    }
   ],
   "source": [
    "# ax**2+bx**+c=0\n",
    "a=-2\n",
    "b=0\n",
    "c=8\n",
    "if (b**2)-(4*a*c)>0:\n",
    "    print(\"one root is\",(-b/2)+(((b**2)-(4*a*c))/2)**(1/2))\n",
    "    print(\"second root is\",(-b/2)-(((b**2)-(4*a*c))/2)**(1/2))\n",
    "elif (b**2)-(4*a*c)==0:\n",
    "    print(\"roots are equal\",-b/2)\n",
    "else:\n",
    "    print(\"1st imaginary root is\",(-b/2),\"+ i\",((-(b**2)+(4*a*c))/2)**(1/2))\n",
    "    print(\"2nd imiginary root is\",(-b/2),\"- i\",((-(b**2)+(4*a*c))/2)**(1/2))"
   ]
  },
  {
   "cell_type": "markdown",
   "metadata": {},
   "source": [
    "Given three points, find out whether they lie on the same straight line or not."
   ]
  },
  {
   "cell_type": "code",
   "execution_count": 35,
   "metadata": {},
   "outputs": [
    {
     "name": "stdout",
     "output_type": "stream",
     "text": [
      "all the points lie on the same line\n"
     ]
    }
   ],
   "source": [
    "x1=float(input(\"x1\"))\n",
    "x2=float(input(\"x2\"))\n",
    "x3=float(input(\"x3\"))\n",
    "y1=float(input(\"y1\"))\n",
    "y2=float(input(\"y2\"))\n",
    "y3=float(input(\"y3\"))\n",
    "a=(x1*(y2-y3)+x2*(y3-y1)+x3*(y1-y2))\n",
    "if a==0:\n",
    "    print(\"all the points lie on the same line\")\n",
    "else:\n",
    "    print(\"all the points do not lie on the same line\")"
   ]
  },
  {
   "cell_type": "markdown",
   "metadata": {},
   "source": [
    "Given three integers, find the smallest one."
   ]
  },
  {
   "cell_type": "code",
   "execution_count": 42,
   "metadata": {},
   "outputs": [
    {
     "name": "stdout",
     "output_type": "stream",
     "text": [
      "c is smallest\n"
     ]
    }
   ],
   "source": [
    "a=int(input(\"a\"))\n",
    "b=int(input(\"b\"))\n",
    "c=int(input(\"c\"))\n",
    "if a<b:\n",
    "    if a<c:\n",
    "        print(\"a is smallest\")\n",
    "    else:\n",
    "        (\"c is smallest\")\n",
    "else:\n",
    "    if b<c:\n",
    "        print(\"b is smallest\")\n",
    "    else:\n",
    "        print(\"c is smallest\")"
   ]
  }
 ],
 "metadata": {
  "kernelspec": {
   "display_name": "Python 3",
   "language": "python",
   "name": "python3"
  },
  "language_info": {
   "codemirror_mode": {
    "name": "ipython",
    "version": 3
   },
   "file_extension": ".py",
   "mimetype": "text/x-python",
   "name": "python",
   "nbconvert_exporter": "python",
   "pygments_lexer": "ipython3",
   "version": "3.11.6"
  }
 },
 "nbformat": 4,
 "nbformat_minor": 2
}
