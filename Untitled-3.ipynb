{
 "cells": [
  {
   "cell_type": "markdown",
   "metadata": {},
   "source": [
    "checking of a no whether it is prime no. or not using square root method"
   ]
  },
  {
   "cell_type": "code",
   "execution_count": 61,
   "metadata": {},
   "outputs": [
    {
     "name": "stdout",
     "output_type": "stream",
     "text": [
      "prime no.\n"
     ]
    }
   ],
   "source": [
    "a=int(input(\"enter an integer\"))\n",
    "if a**(1/2)==int(a**(1/2)):\n",
    "    print(\"not a prime no.\")\n",
    "else:\n",
    "    print(\"prime no.\")"
   ]
  },
  {
   "cell_type": "markdown",
   "metadata": {},
   "source": [
    "Given a year, check if it is a leap year or not. A leap year is divisible by 4, except for years that are divisible by 100. However, years that are divisible by 400 are also leap years."
   ]
  },
  {
   "cell_type": "code",
   "execution_count": 17,
   "metadata": {},
   "outputs": [
    {
     "name": "stdout",
     "output_type": "stream",
     "text": [
      "It is a leap year\n"
     ]
    }
   ],
   "source": [
    "year=int(input(\"enter the year\"))\n",
    "if year%100==0:\n",
    "    print(\"It is not a leap year\")\n",
    "elif year%4==0 or year%400==0:\n",
    "    print(\"It is a leap year\")\n",
    "else:\n",
    "    print(\"It is not a leap year\")"
   ]
  },
  {
   "cell_type": "markdown",
   "metadata": {},
   "source": [
    "Given a point (x1, y1), find the quadrant in which this point lies."
   ]
  },
  {
   "cell_type": "code",
   "execution_count": 3,
   "metadata": {},
   "outputs": [
    {
     "name": "stdout",
     "output_type": "stream",
     "text": [
      "point is in 4th quadrant\n"
     ]
    }
   ],
   "source": [
    "x1=int(input(\"x1\"))\n",
    "y1=int(input(\"y1\"))\n",
    "if x1==0 and y1==0:\n",
    "    print(\"point is on origin\")\n",
    "elif x1>0 and y1>0:\n",
    "    print(\"point is in 1st quadrant\")\n",
    "elif x1<0 and y1>0:\n",
    "    print(\"point is in 2nd quadrant\")\n",
    "elif x1<0 and y1<0:\n",
    "    print(\"point is in 3rd quadrant\")\n",
    "else:\n",
    "    print(\"point is in 4th quadrant\")"
   ]
  },
  {
   "cell_type": "markdown",
   "metadata": {},
   "source": [
    "Given three integers, find the smallest one."
   ]
  },
  {
   "cell_type": "code",
   "execution_count": 6,
   "metadata": {},
   "outputs": [
    {
     "name": "stdout",
     "output_type": "stream",
     "text": [
      "c is smallest\n"
     ]
    }
   ],
   "source": [
    "a=int(input(\"a\"))\n",
    "b=int(input(\"b\"))\n",
    "c=int(input(\"c\"))\n",
    "if a<b:\n",
    "    if a<c:\n",
    "        print(\"a is smallest\")\n",
    "    else:\n",
    "        print(\"c is smallest\")\n",
    "else:\n",
    "    if b<c:\n",
    "        print(\"b is smallest\")\n",
    "    else:\n",
    "        print(\"c is smallest\")"
   ]
  }
 ],
 "metadata": {
  "kernelspec": {
   "display_name": "Python 3",
   "language": "python",
   "name": "python3"
  },
  "language_info": {
   "codemirror_mode": {
    "name": "ipython",
    "version": 3
   },
   "file_extension": ".py",
   "mimetype": "text/x-python",
   "name": "python",
   "nbconvert_exporter": "python",
   "pygments_lexer": "ipython3",
   "version": "3.11.6"
  },
  "orig_nbformat": 4
 },
 "nbformat": 4,
 "nbformat_minor": 2
}
