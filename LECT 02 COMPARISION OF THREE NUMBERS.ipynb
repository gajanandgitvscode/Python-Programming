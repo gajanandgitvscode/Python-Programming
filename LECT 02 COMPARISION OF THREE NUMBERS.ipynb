{
 "cells": [
  {
   "cell_type": "markdown",
   "metadata": {},
   "source": [
    "FINDING THE REAMAINDER WHEN A NUMBER IS DIVIDED BY ANOTHER NUMBER"
   ]
  },
  {
   "cell_type": "code",
   "execution_count": 9,
   "metadata": {},
   "outputs": [
    {
     "name": "stdout",
     "output_type": "stream",
     "text": [
      "1\n"
     ]
    }
   ],
   "source": [
    "a=5\n",
    "b=4\n",
    "# if a:=b:\n",
    "#     print(\"hello\")\n",
    "\n",
    "c=a%b\n",
    "print(c)\n",
    "\n"
   ]
  },
  {
   "cell_type": "markdown",
   "metadata": {},
   "source": [
    "CHECK WHETHER A GIVEN NO IS AN INTEGER OR NOT"
   ]
  },
  {
   "cell_type": "code",
   "execution_count": 17,
   "metadata": {},
   "outputs": [
    {
     "name": "stdout",
     "output_type": "stream",
     "text": [
      "not integer\n"
     ]
    }
   ],
   "source": [
    "a=5.1\n",
    "b=int(a)\n",
    "\n",
    "if a==b:\n",
    "    print(\"integer\")\n",
    "else:\n",
    "    print(\"not integer\")"
   ]
  },
  {
   "cell_type": "markdown",
   "metadata": {},
   "source": [
    "CHECK WHETHER A GIVEN NO IS EVEN OR ODD"
   ]
  },
  {
   "cell_type": "code",
   "execution_count": 37,
   "metadata": {},
   "outputs": [
    {
     "name": "stdout",
     "output_type": "stream",
     "text": [
      "a is odd\n"
     ]
    }
   ],
   "source": [
    "a=int(\"plz enter an integer\")\n",
    "if a%2==0:\n",
    "    print(\"a is even\")\n",
    "else:\n",
    "    print(\"a is odd\")"
   ]
  },
  {
   "cell_type": "markdown",
   "metadata": {},
   "source": [
    "CHECK WHETHER A NO IS AN INTEGER OR A FLOAT"
   ]
  },
  {
   "cell_type": "code",
   "execution_count": 4,
   "metadata": {},
   "outputs": [
    {
     "name": "stdout",
     "output_type": "stream",
     "text": [
      "a is a float\n"
     ]
    }
   ],
   "source": [
    "a=5.1   # plz write only a no.\n",
    "type(a)\n",
    "if a==int(a):\n",
    "    print(\"a is an integer\")\n",
    "else:\n",
    "    print(\"a is a float\")"
   ]
  },
  {
   "cell_type": "markdown",
   "metadata": {},
   "source": [
    "TO CALCULATE THE WEIGHT OF A PARTICULAR GENDER FROM HEIGHT"
   ]
  },
  {
   "cell_type": "code",
   "execution_count": 19,
   "metadata": {},
   "outputs": [
    {
     "name": "stdout",
     "output_type": "stream",
     "text": [
      "weight is 57.0\n"
     ]
    }
   ],
   "source": [
    "gender=int(input(\"enter 0 for male and 1 for female\"))\n",
    "height=float(input(\"what is the height in inches\"))\n",
    "if gender==0:\n",
    "    print(\"weight is\",52 + 1.9*height)\n",
    "else:\n",
    "    print(\"weight is\",49 + 1.6*height)"
   ]
  },
  {
   "cell_type": "markdown",
   "metadata": {},
   "source": [
    "FINDING THE GREATEST INTEGER AMONG THREE INTEGERS"
   ]
  },
  {
   "cell_type": "code",
   "execution_count": 4,
   "metadata": {},
   "outputs": [
    {
     "name": "stdout",
     "output_type": "stream",
     "text": [
      "c is greatest\n"
     ]
    }
   ],
   "source": [
    "a=int(input(\"a=\"))\n",
    "b=int(input(\"b=\"))\n",
    "c=int(input(\"c=\"))\n",
    "\n",
    "if a>b and a>c:\n",
    "    print(\"a is greatest\")\n",
    "elif b>c:\n",
    "    print(\"b is greatest\")\n",
    "else:\n",
    "    print(\"c is greatest\")"
   ]
  },
  {
   "cell_type": "markdown",
   "metadata": {},
   "source": [
    "FINDING THE GREATEST INTEGER AMONG THREE INTEGERS"
   ]
  },
  {
   "cell_type": "code",
   "execution_count": 28,
   "metadata": {},
   "outputs": [
    {
     "name": "stdout",
     "output_type": "stream",
     "text": [
      "a is greatest\n"
     ]
    }
   ],
   "source": [
    "a=91\n",
    "b=78\n",
    "c=12\n",
    "\n",
    "if a>b:\n",
    "    if a>c:\n",
    "        print(\"a is greatest\")  # else statement is required to execute code successfully\n",
    "    else:\n",
    "        print(\"c is greatest\")\n",
    "else:\n",
    "    if b>c:\n",
    "        print(\"b is greatest\")"
   ]
  }
 ],
 "metadata": {
  "kernelspec": {
   "display_name": "Python 3",
   "language": "python",
   "name": "python3"
  },
  "language_info": {
   "codemirror_mode": {
    "name": "ipython",
    "version": 3
   },
   "file_extension": ".py",
   "mimetype": "text/x-python",
   "name": "python",
   "nbconvert_exporter": "python",
   "pygments_lexer": "ipython3",
   "version": "3.11.4"
  },
  "orig_nbformat": 4
 },
 "nbformat": 4,
 "nbformat_minor": 2
}
