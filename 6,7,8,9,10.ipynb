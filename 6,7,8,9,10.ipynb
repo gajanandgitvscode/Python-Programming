{
 "cells": [
  {
   "cell_type": "markdown",
   "metadata": {},
   "source": [
    "Write a python function that takes a string as input, and returns if its a valid email address."
   ]
  },
  {
   "cell_type": "code",
   "execution_count": 31,
   "metadata": {},
   "outputs": [
    {
     "name": "stdout",
     "output_type": "stream",
     "text": [
      "email is correct\n"
     ]
    }
   ],
   "source": [
    "def email(a):               # gajanandmourya184@gmail.com\n",
    "    x=\"@\"\n",
    "    y=\".\"\n",
    "    u=a.index(\"@\")\n",
    "    v=a.index(\".\")\n",
    "    if u<v and v-u>1 and u>0 and v!=len(a)-1:\n",
    "        print(\"email is correct\")\n",
    "    else:\n",
    "        print(\"email is incorrect\")\n",
    "email(\"a@h.b\")"
   ]
  },
  {
   "cell_type": "markdown",
   "metadata": {},
   "source": [
    "Write a python function that takes a string as input, and returns if its a valid mobile number in India."
   ]
  },
  {
   "cell_type": "code",
   "execution_count": 38,
   "metadata": {},
   "outputs": [
    {
     "name": "stdout",
     "output_type": "stream",
     "text": [
      "it is a correct mobile no.\n"
     ]
    }
   ],
   "source": [
    "def check(a):\n",
    "    if int(a)==float(a) and len(a)==10:\n",
    "        print(\"it is a correct mobile no.\")\n",
    "    else:\n",
    "        print(\"it is an incorrect mobile no.\")\n",
    "check(\"8239471024\")"
   ]
  },
  {
   "cell_type": "markdown",
   "metadata": {},
   "source": [
    "Implement a simple encryption algorithm that can encrypt and decrypt strings."
   ]
  },
  {
   "cell_type": "code",
   "execution_count": null,
   "metadata": {},
   "outputs": [],
   "source": []
  },
  {
   "cell_type": "markdown",
   "metadata": {},
   "source": [
    "Write a python function that takes in a string and checks if its a palindrome."
   ]
  },
  {
   "cell_type": "code",
   "execution_count": 40,
   "metadata": {},
   "outputs": [
    {
     "name": "stdout",
     "output_type": "stream",
     "text": [
      "it is palindrome\n"
     ]
    }
   ],
   "source": [
    "def palindrome(a):\n",
    "    stri=\"\"\n",
    "    for i in a:\n",
    "        stri=i+stri\n",
    "    if a==stri:\n",
    "        print(\"it is palindrome\")\n",
    "    else:\n",
    "        print(\"it is not palindrome\")\n",
    "palindrome(\"gajajag\")"
   ]
  },
  {
   "cell_type": "markdown",
   "metadata": {},
   "source": [
    "Write a python function that takes two strings as input, and checks if they are the same string or not. If they are not the same string, it should also output the number of characters in which they differ from each other."
   ]
  },
  {
   "cell_type": "code",
   "execution_count": 43,
   "metadata": {},
   "outputs": [
    {
     "name": "stdout",
     "output_type": "stream",
     "text": [
      "2\n"
     ]
    }
   ],
   "source": [
    "def stri(a,b):\n",
    "    x=len(a)\n",
    "    y=len(b)\n",
    "    if x==y:\n",
    "        print(\"both strings are of same length\")\n",
    "    else:\n",
    "        if x>y:\n",
    "            print(x-y)\n",
    "        else:\n",
    "            print(y-x)\n",
    "stri(\"gajanand\",\"mourya\")"
   ]
  }
 ],
 "metadata": {
  "kernelspec": {
   "display_name": "Python 3",
   "language": "python",
   "name": "python3"
  },
  "language_info": {
   "codemirror_mode": {
    "name": "ipython",
    "version": 3
   },
   "file_extension": ".py",
   "mimetype": "text/x-python",
   "name": "python",
   "nbconvert_exporter": "python",
   "pygments_lexer": "ipython3",
   "version": "3.11.6"
  }
 },
 "nbformat": 4,
 "nbformat_minor": 2
}
